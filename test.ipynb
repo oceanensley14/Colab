{
  "nbformat": 4,
  "nbformat_minor": 0,
  "metadata": {
    "colab": {
      "provenance": [],
      "authorship_tag": "ABX9TyPLCjPZ6cQiRk8aEPz13eO/",
      "include_colab_link": true
    },
    "kernelspec": {
      "name": "python3",
      "display_name": "Python 3"
    },
    "language_info": {
      "name": "python"
    }
  },
  "cells": [
    {
      "cell_type": "markdown",
      "metadata": {
        "id": "view-in-github",
        "colab_type": "text"
      },
      "source": [
        "<a href=\"https://colab.research.google.com/github/oceanensley14/Colab/blob/main/test.ipynb\" target=\"_parent\"><img src=\"https://colab.research.google.com/assets/colab-badge.svg\" alt=\"Open In Colab\"/></a>"
      ]
    },
    {
      "cell_type": "code",
      "source": [
        "down = 0\n",
        "up = 100\n",
        "for i in range(1,10):\n",
        "    age_guess = int((up+down)/2)\n",
        "    answer = input ('Are you' + str(age_guess) + \"years old\")\n",
        "    if answer == 'correct':\n",
        "      print(\"Sweet\")\n",
        "      break\n",
        "    elif answer == 'less':\n",
        "      up = age_guess\n",
        "    elif answer == 'more':\n",
        "      down = age_guess\n",
        "    else:\n",
        "      print(\"incorrect\")"
      ],
      "metadata": {
        "id": "_96txW0exExq"
      },
      "execution_count": null,
      "outputs": []
    }
  ]
}